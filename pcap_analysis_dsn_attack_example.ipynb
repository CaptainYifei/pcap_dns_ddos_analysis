{
 "cells": [
  {
   "cell_type": "markdown",
   "metadata": {},
   "source": [
    "# Analysis of a generic pcap file containing a DNS-based DDoS attack"
   ]
  },
  {
   "cell_type": "markdown",
   "metadata": {},
   "source": [
    "This is a Jupyter Notebook written for the analysis of generic pcap format files in which there is a DNS-based DDoS attack. If you don't know what is Jupyter Notebook then you must access the documentation (at http://jupyter.org/), learn how to use, install on your own machine, and have fun analysing attacks.\n",
    "\n",
    "**If you want to do 'this', or 'that', or even 'that other thing' on your analysis or your graphs, believe me: it is possible! GOOGLE IT!**"
   ]
  },
  {
   "cell_type": "markdown",
   "metadata": {},
   "source": [
    "# Libraries that I use to analyse data"
   ]
  },
  {
   "cell_type": "code",
   "execution_count": null,
   "metadata": {
    "collapsed": false
   },
   "outputs": [],
   "source": [
    "import pandas as pd #more info at http://pandas.pydata.org/\n",
    "import numpy as np #more info at http://www.numpy.org/\n",
    "import matplotlib.pyplot as plt #some examples for you at http://matplotlib.org/gallery.html \n",
    "from matplotlib import gridspec #more info at http://matplotlib.org/api/gridspec_api.html\n",
    "import seaborn as sns\n",
    "\n",
    "plt.style.use('ggplot') #For improving the visualization style (options: grayscale, bmh, dark_background, ggplot, and fivethirtyeight)\n",
    "\n",
    "#Magic line: to show the plots inline in the Jupyter Notebook\n",
    "%matplotlib inline \n",
    "\n",
    "import warnings\n",
    "warnings.filterwarnings('ignore') #To avoid showing annoying warns"
   ]
  },
  {
   "cell_type": "markdown",
   "metadata": {},
   "source": [
    "# Reading the pcap and Writing into a text file (**VERY expensive TASK!!!)\n",
    "- If you don't have tshark:\n",
    "    > sudo apt-get install tshark\n",
    "- More fields on:https://www.wireshark.org/docs/dfref/\n",
    "### YOU WILL GET \"Error Traversing Database for ipnum...\": Don't be worried, it will work!\n",
    "Inline-style: \n",
    "\n",
    "![](figs/boring.gif)\n",
    "# Don't give up!\n",
    "\n"
   ]
  },
  {
   "cell_type": "code",
   "execution_count": null,
   "metadata": {
    "collapsed": true
   },
   "outputs": [],
   "source": [
    "# This operation is extremely timing consuming. At least you only need to do it at ONCE!\n",
    "\n",
    "!tshark -n -r 'data/!!!FILE_HERE!!!.pcap' -E separator=\\;  -E header=y -T fields \\\n",
    "-e frame.time \\\n",
    "-e ip.proto \\\n",
    "-e ip.src \\\n",
    "-e ip.dst \\\n",
    "-e udp.srcport \\\n",
    "-e udp.dstport \\\n",
    "-e tcp.srcport \\\n",
    "-e tcp.dstport \\\n",
    "-e frame.len \\\n",
    "-e dns.qry.type \\\n",
    "-e dns.qry.name \\\n",
    "-e dns.resp.name > pcap.txt"
   ]
  },
  {
   "cell_type": "markdown",
   "metadata": {},
   "source": [
    "# Reading the converted pcap file (pcap.txt) into a pandas dataframe"
   ]
  },
  {
   "cell_type": "code",
   "execution_count": null,
   "metadata": {
    "collapsed": false
   },
   "outputs": [],
   "source": [
    "#Data conversion slighty changes the time value\n",
    "def date_converter(text):\n",
    "    try:\n",
    "        return  pd.to_datetime(text)\n",
    "    except AttributeError:\n",
    "        return text \n",
    "\n",
    "def bytes2bits(value):\n",
    "    try:\n",
    "        return  int(value)*8\n",
    "    except AttributeError:\n",
    "        return value     \n",
    "\n",
    "df = pd.read_csv('pcap.txt', error_bad_lines=False, sep=';',\\\n",
    "                  converters = {'frame.time':date_converter, 'frame.len':bytes2bits})"
   ]
  },
  {
   "cell_type": "markdown",
   "metadata": {},
   "source": [
    "![](figs/boring2.gif)"
   ]
  },
  {
   "cell_type": "markdown",
   "metadata": {},
   "source": [
    "# Investigating the characteristics of the attack"
   ]
  },
  {
   "cell_type": "markdown",
   "metadata": {},
   "source": [
    "# Who was the target IP?"
   ]
  },
  {
   "cell_type": "code",
   "execution_count": null,
   "metadata": {
    "collapsed": false
   },
   "outputs": [],
   "source": [
    "ip_dst=df['ip.dst'].value_counts()\n",
    "top1_target_ip=ip_dst.index[0]\n",
    "top2_target_ip=ip_dst.index[1]\n",
    "\n",
    "target_network=top1_target_ip.split('.')[0]+'.'+top1_target_ip.split('.')[1]\n",
    "#======================\n",
    "fig = plt.figure(figsize=(4,4))\n",
    "\n",
    "ax = plt.subplot2grid((1,1), (0,0))\n",
    "ip_dst.plot(ax=ax,kind='pie', autopct='%1.1f%%', startangle=270, fontsize=10,title=\"Target IP\")\n",
    "ax.set_ylabel(\"\")\n",
    "\n",
    "fig.show()"
   ]
  },
  {
   "cell_type": "markdown",
   "metadata": {},
   "source": [
    "## Which IP protocols occurred more in the trace?"
   ]
  },
  {
   "cell_type": "code",
   "execution_count": null,
   "metadata": {
    "collapsed": false
   },
   "outputs": [],
   "source": [
    "ip_proto=df['ip.proto'].value_counts()\n",
    "top1_target_ip_proto=ip_proto.index[0]\n",
    "#======================\n",
    "fig = plt.figure(figsize=(4,4))\n",
    "\n",
    "ax = plt.subplot2grid((1,1), (0,0))\n",
    "ip_proto.plot(ax=ax,kind='pie', autopct='%1.1f%%', startangle=270, fontsize=10,title=\"IP Protocols (number)\")\n",
    "ax.set_ylabel(\"\")\n",
    "\n",
    "fig.show()"
   ]
  },
  {
   "cell_type": "markdown",
   "metadata": {},
   "source": [
    "## Distribution of UDP ports for the top 1 (or 2) target IP address(es)"
   ]
  },
  {
   "cell_type": "code",
   "execution_count": null,
   "metadata": {
    "collapsed": false
   },
   "outputs": [],
   "source": [
    "udp_srcip_dstip_top1=df[df['ip.dst']==top1_target_ip]['ip.src'].value_counts()\n",
    "udp_srcport_top1=df[df['ip.dst']==top1_target_ip]['udp.srcport'].value_counts()\n",
    "udp_dstport_top1=df[df['ip.dst']==top1_target_ip]['udp.dstport'].value_counts()\n",
    "\n",
    "# udp_srcip_dstip_top2=df[df['ip.dst']==top2_target_ip]['ip.src'].value_counts()\n",
    "# udp_srcport_top2=df[df['ip.dst']==top2_target_ip]['udp.srcport'].value_counts()\n",
    "# udp_dstport_top2=df[df['ip.dst']==top2_target_ip]['udp.dstport'].value_counts()\n",
    "#======================\n",
    "fig = plt.figure(figsize=(12,6))\n",
    "fig.subplots_adjust(wspace=1)\n",
    "\n",
    "ax = plt.subplot2grid((2,3), (0,0))\n",
    "udp_srcip_dstip_top1.plot(kind='pie',ax=ax, autopct='%1.1f%%', startangle=270, fontsize=10,title=\"Source IPs targetting \"+top1_target_ip)\n",
    "ax.set_ylabel(\"\")\n",
    "\n",
    "ax1 = plt.subplot2grid((2,3), (0,1))\n",
    "udp_srcport_top1.plot(kind='pie',ax=ax1, autopct='%1.1f%%', startangle=270, fontsize=10,title=\"Source UDP Ports Distribution\")\n",
    "ax1.set_ylabel(\"\")\n",
    "\n",
    "ax2 = plt.subplot2grid((2,3), (0,2))\n",
    "udp_dstport_top1.plot(kind='pie',ax=ax2, autopct='%1.1f%%', startangle=270, fontsize=10,title=\"Destination UDP Ports Distribution\")\n",
    "ax2.set_ylabel(\"\")\n",
    "\n",
    "# ax3 = plt.subplot2grid((2,3), (1,0))\n",
    "# udp_srcip_dstip_top2.plot(kind='pie',ax=ax3, autopct='%1.1f%%', startangle=270, fontsize=10,title=\"Source IPs targetting \"+top2_target_ip)\n",
    "# ax3.set_ylabel(\"\")\n",
    "\n",
    "# ax4 = plt.subplot2grid((2,3), (1,1))\n",
    "# udp_srcport_top2.plot(kind='pie',ax=ax4, autopct='%1.1f%%', startangle=270, fontsize=10,title=\"Source UDP Ports Distribution\")\n",
    "# ax4.set_ylabel(\"\")\n",
    "\n",
    "# ax5 = plt.subplot2grid((2,3), (1,2))\n",
    "# udp_dstport_top2.plot(kind='pie',ax=ax5, autopct='%1.1f%%', startangle=270, fontsize=10,title=\"Destination UDP Ports Distribution\")\n",
    "# ax5.set_ylabel(\"\")\n",
    "\n",
    "fig.show()"
   ]
  },
  {
   "cell_type": "markdown",
   "metadata": {},
   "source": [
    "# What were the DNS queries used in the attack? and the most used?"
   ]
  },
  {
   "cell_type": "code",
   "execution_count": null,
   "metadata": {
    "collapsed": false
   },
   "outputs": [],
   "source": [
    "occurrence_dnsquery=df['dns.qry.name'].value_counts()\n",
    "top_dnsquery=occurrence_dnsquery.index['0']\n",
    "#======================\n",
    "fig = plt.figure(figsize=(4,4))\n",
    "ax = plt.subplot2grid((1,1), (0,0))\n",
    "occurrence_dnsquery.plot(kind='barh',ax=ax, fontsize=10, title=\"DNS query\")\n",
    "ax.set_ylabel(\"\")\n",
    "\n",
    "fig.show()"
   ]
  },
  {
   "cell_type": "markdown",
   "metadata": {},
   "source": [
    "# What was the greatest frame length that the DNS query used on the attack had? (i.e., which generated the greatest amplification factor)"
   ]
  },
  {
   "cell_type": "code",
   "execution_count": null,
   "metadata": {
    "collapsed": false
   },
   "outputs": [],
   "source": [
    "top_dnsquery"
   ]
  },
  {
   "cell_type": "code",
   "execution_count": null,
   "metadata": {
    "collapsed": false
   },
   "outputs": [],
   "source": [
    "max(df['frame.len'][df['dns.qry.name']==top_dnsquery])"
   ]
  },
  {
   "cell_type": "markdown",
   "metadata": {},
   "source": [
    "# Filtering ONLY the main attack records"
   ]
  },
  {
   "cell_type": "code",
   "execution_count": null,
   "metadata": {
    "collapsed": false
   },
   "outputs": [],
   "source": [
    "# MANUAL SELECTION: Considering the attack from ONE to ONE port!!!\n",
    "attack_records=df[df['ip.dst']==top1_target_ip]\\\n",
    "                [df['ip.src'].str.contains(target_network)==False]\\\n",
    "                [df['ip.proto']==top1_target_ip_proto]\\\n",
    "                [df['udp.srcport']==udp_srcport_top1.index[0]]\\\n",
    "                [df['udp.dstport']==udp_dstport_top1.index[0]]\n",
    "#                 \\\n",
    "#                 [df['dns.qry.name'].str.contains('172-31-28-132')==False]\n",
    "\n",
    "# # MANUAL SELECTION: Considering the attack from ONE to MANY ports!!!\n",
    "# attack_records=df[df['ip.dst']==top1_target_ip]\\\n",
    "#                 [df['ip.src'].str.contains(target_network)==False]\\\n",
    "#                 [df['ip.proto']==top1_target_ip_proto]\\\n",
    "#                 [df['udp.srcport']==udp_srcport_top1.index[0]]\\\n",
    "#                 [df['dns.qry.name'].str.contains(top_dnsquery)==True]\n",
    "                \n",
    "# # MANUAL SELECTION: Considering the attack from MANY to ONE port!!!\n",
    "# attack_records=df[df['ip.dst']==top1_target_ip]\\\n",
    "#                 [df['ip.src'].str.contains(target_network)==False]\\\n",
    "#                 [df['ip.proto']==top1_target_ip_proto]\\\n",
    "#                 [df['udp.dstport']==udp_dstport_top1.index[0]]\\\n",
    "#                 [df['dns.qry.name'].str.contains(top_dnsquery)==True]\n",
    "\n",
    "# # MANUAL SELECTION: Considering the attack from MANY to MANY portS!!!\n",
    "# attack_records=df[df['ip.dst']==top1_target_ip]\\\n",
    "#                 [df['ip.src'].str.contains(target_network)==False]\\\n",
    "#                 [df['ip.proto']==top1_target_ip_proto]\\\n",
    "#                 [df['udp.srcport']==udp_srcport_top1.index[0]]\\\n",
    "#                 [df['udp.dstport']==udp_dstport_top1.index[0]]\\\n",
    "#                 [df['dns.qry.name'].str.contains(top_dnsquery)==True]\n",
    "\n",
    "remaining_records=df[~df.isin(attack_records)]\n"
   ]
  },
  {
   "cell_type": "markdown",
   "metadata": {},
   "source": [
    "# Time series of the attack and the remaining traffic"
   ]
  },
  {
   "cell_type": "code",
   "execution_count": null,
   "metadata": {
    "collapsed": false
   },
   "outputs": [],
   "source": [
    "overall_bps=df.set_index(['frame.time']).groupby(pd.TimeGrouper(freq='S')).agg(['sum'])['frame.len']\n",
    "attack_bps=attack_records.set_index(['frame.time']).groupby(pd.TimeGrouper(freq='S')).agg(['sum'])['frame.len']\n",
    "attack_bps_median=attack_bps.median()\n",
    "attack_bps_peak=max(attack_bps['sum'])\n",
    "\n",
    "remaining_bps=remaining_records.set_index(['frame.time']).groupby(pd.TimeGrouper(freq='S')).agg(['sum'])['frame.len']\n",
    "\n",
    "\n",
    "#======================\n",
    "fig = plt.figure(figsize=(12,4))\n",
    "\n",
    "ax = plt.subplot2grid((1,1), (0,0))\n",
    "\n",
    "attack_bps.plot(ax=ax, lw=1)\n",
    "ax.fill_between(attack_bps.index, 0, attack_bps['sum'],color='r')\n",
    "\n",
    "ax.annotate(str(attack_bps_peak/10e6)+' Mb/s [peak]', (str(attack_bps[attack_bps['sum'] == attack_bps_peak].index.values['0']), attack_bps_peak),\n",
    "             xytext=(0, 0), textcoords='offset points')\n",
    "ax.annotate(str(attack_bps_median[0]/10e6)+' Mb/s [median]', (str(attack_bps.index.values['0']), attack_bps_median),\n",
    "             xytext=(90, 0), textcoords='offset points')\n",
    "\n",
    "remaining_bps.plot(ax=ax)\n",
    "\n",
    "ax.legend(['Attacks records','Remaining records'])\n",
    "ax.set_ylabel(\"Data [bit]\")\n",
    "ax.set_xlabel(\"Time [second]\")\n",
    "\n",
    "fig.show()"
   ]
  },
  {
   "cell_type": "markdown",
   "metadata": {},
   "source": [
    "# How many records in the entire trace, attack records, and remaining records? "
   ]
  },
  {
   "cell_type": "code",
   "execution_count": null,
   "metadata": {
    "collapsed": false
   },
   "outputs": [],
   "source": [
    "print 'Records:', len(df),'records (100%),',len(attack_records),'attack records (',len(attack_records)*100/len(df),'%)',',', len(df)-len(attack_records),'remaining records (',(len(df)-len(attack_records))*100/len(df),'% )'"
   ]
  },
  {
   "cell_type": "markdown",
   "metadata": {},
   "source": [
    "# What is the duration of the entire trace and the attack part? "
   ]
  },
  {
   "cell_type": "code",
   "execution_count": null,
   "metadata": {
    "collapsed": false
   },
   "outputs": [],
   "source": [
    "print 'Trace duration:',max(df['frame.time'])-min(df['frame.time'])\n",
    "print 'Attack duration:',max(attack_records['frame.time'])-min(attack_records['frame.time'])"
   ]
  },
  {
   "cell_type": "markdown",
   "metadata": {},
   "source": [
    "# How many (source) IPs were involved in the attack?"
   ]
  },
  {
   "cell_type": "code",
   "execution_count": null,
   "metadata": {
    "collapsed": false
   },
   "outputs": [],
   "source": [
    "len(attack_records['ip.src'].unique())"
   ]
  },
  {
   "cell_type": "markdown",
   "metadata": {},
   "source": [
    "# What are the top 5 IP addresses that sent more packets?"
   ]
  },
  {
   "cell_type": "code",
   "execution_count": null,
   "metadata": {
    "collapsed": false
   },
   "outputs": [],
   "source": [
    "top5_srcips_pkts=attack_records['ip.src'].value_counts().head(5).sort_values()\n",
    "#======================\n",
    "fig = plt.figure()\n",
    "ax = plt.subplot2grid((1,1), (0,0))\n",
    "top5_srcips_pkts.plot(kind='barh')\n",
    "ax.set_ylabel(\"Source IP\")\n",
    "ax.set_xlabel(\"Packets\")\n",
    "\n",
    "fig.show()"
   ]
  },
  {
   "cell_type": "markdown",
   "metadata": {},
   "source": [
    "# What are the top 5 IP addresses that sent more attack data?"
   ]
  },
  {
   "cell_type": "code",
   "execution_count": null,
   "metadata": {
    "collapsed": false
   },
   "outputs": [],
   "source": [
    "top5_srcips_bits=attack_records.groupby('ip.src').agg(['sum'])['frame.len'].sort('sum',ascending=False).head(5).sort_values('sum')\n",
    "#======================\n",
    "fig = plt.figure()\n",
    "ax = plt.subplot2grid((1,1), (0,0))\n",
    "top5_srcips_bits.plot(kind='barh',ax=ax,legend=False)\n",
    "ax.set_ylabel(\"Source IP\")\n",
    "ax.set_xlabel(\"Bits\")\n",
    "\n",
    "fig.show()"
   ]
  },
  {
   "cell_type": "markdown",
   "metadata": {},
   "source": [
    "# In which country the top 1 source IP address is located?"
   ]
  },
  {
   "cell_type": "code",
   "execution_count": null,
   "metadata": {
    "collapsed": false
   },
   "outputs": [],
   "source": [
    "!whois -h whois.cymru.com \" -v 210.245.0.10\""
   ]
  },
  {
   "cell_type": "code",
   "execution_count": null,
   "metadata": {
    "collapsed": true
   },
   "outputs": [],
   "source": []
  }
 ],
 "metadata": {
  "kernelspec": {
   "display_name": "Python 2",
   "language": "python",
   "name": "python2"
  },
  "language_info": {
   "codemirror_mode": {
    "name": "ipython",
    "version": 2
   },
   "file_extension": ".py",
   "mimetype": "text/x-python",
   "name": "python",
   "nbconvert_exporter": "python",
   "pygments_lexer": "ipython2",
   "version": "2.7.10"
  }
 },
 "nbformat": 4,
 "nbformat_minor": 0
}
